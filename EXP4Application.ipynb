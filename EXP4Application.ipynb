{
  "nbformat": 4,
  "nbformat_minor": 0,
  "metadata": {
    "colab": {
      "provenance": [],
      "authorship_tag": "ABX9TyNAWbK+opJTkeP6fJIfPtZN",
      "include_colab_link": true
    },
    "kernelspec": {
      "name": "python3",
      "display_name": "Python 3"
    },
    "language_info": {
      "name": "python"
    }
  },
  "cells": [
    {
      "cell_type": "markdown",
      "metadata": {
        "id": "view-in-github",
        "colab_type": "text"
      },
      "source": [
        "<a href=\"https://colab.research.google.com/github/KomalT2003/SignalProcessing/blob/main/EXP4Application.ipynb\" target=\"_parent\"><img src=\"https://colab.research.google.com/assets/colab-badge.svg\" alt=\"Open In Colab\"/></a>"
      ]
    },
    {
      "cell_type": "code",
      "execution_count": null,
      "metadata": {
        "colab": {
          "base_uri": "https://localhost:8080/"
        },
        "id": "tCSw9J5X7wGb",
        "outputId": "4529bd3a-16a5-47ad-de1f-b13a62af398d"
      },
      "outputs": [
        {
          "output_type": "stream",
          "name": "stdout",
          "text": [
            "0.0015994617392662651\n",
            "Authentication successful. User is authenticated.\n"
          ]
        }
      ],
      "source": [
        "import numpy as np\n",
        "import scipy.io.wavfile\n",
        "\n",
        "# Load audio files\n",
        "x_rate, x = scipy.io.wavfile.read('hello.wav')\n",
        "y_rate, y = scipy.io.wavfile.read('testhello.wav')\n",
        "\n",
        "# Check the sampling rates and adjust if necessary\n",
        "if x_rate != y_rate:\n",
        "    raise ValueError(\"Audio files have different sampling rates.\")\n",
        "\n",
        "# Calculate the FFT of the audio signals\n",
        "X = np.fft.fft(x)\n",
        "Y = np.fft.fft(y)\n",
        "\n",
        "# Calculate the power spectra\n",
        "X_power = np.abs(X) ** 2\n",
        "Y_power = np.abs(Y) ** 2\n",
        "\n",
        "# Ensure both power spectra have the same length\n",
        "min_length = min(len(X_power), len(Y_power))\n",
        "X_power = X_power[:min_length]\n",
        "Y_power = Y_power[:min_length]\n",
        "\n",
        "# Calculate the mean power of X and Y\n",
        "mean_X_power = np.mean(X_power)\n",
        "mean_Y_power = np.mean(Y_power)\n",
        "\n",
        "# Calculate the correlation coefficient (Pearson correlation)\n",
        "numerator = np.sum((X_power - mean_X_power) * (Y_power - mean_Y_power))\n",
        "denominator_X = np.sqrt(np.sum((X_power - mean_X_power) ** 2))\n",
        "denominator_Y = np.sqrt(np.sum((Y_power - mean_Y_power) ** 2))\n",
        "r = numerator / (denominator_X * denominator_Y)\n",
        "\n",
        "# Set the correlation threshold\n",
        "threshold = 0.9\n",
        "r=abs(r)\n",
        "print(r)\n",
        "# Perform authentication based on the correlation coefficient\n",
        "if r < threshold:\n",
        "    print('Authentication successful. User is authenticated.')\n",
        "else:\n",
        "    print('Authentication failed. User is not authenticated.')\n"
      ]
    }
  ]
}